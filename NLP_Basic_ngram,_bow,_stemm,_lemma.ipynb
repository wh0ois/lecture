{
  "nbformat": 4,
  "nbformat_minor": 0,
  "metadata": {
    "colab": {
      "provenance": []
    },
    "kernelspec": {
      "name": "python3",
      "display_name": "Python 3"
    },
    "language_info": {
      "name": "python"
    },
    "widgets": {
      "application/vnd.jupyter.widget-state+json": {
        "8088e2c8a1e444c2b639d1a544a9df7b": {
          "model_module": "@jupyter-widgets/controls",
          "model_name": "HBoxModel",
          "model_module_version": "1.5.0",
          "state": {
            "_dom_classes": [],
            "_model_module": "@jupyter-widgets/controls",
            "_model_module_version": "1.5.0",
            "_model_name": "HBoxModel",
            "_view_count": null,
            "_view_module": "@jupyter-widgets/controls",
            "_view_module_version": "1.5.0",
            "_view_name": "HBoxView",
            "box_style": "",
            "children": [
              "IPY_MODEL_85d4d2d90ca140b7a94f28c026fc0192",
              "IPY_MODEL_1a399c61659f4e21a5150904f1ab2858",
              "IPY_MODEL_6a0491341825469590a72c0cd31e0b88"
            ],
            "layout": "IPY_MODEL_3b68500de3a648488a072478830badac"
          }
        },
        "85d4d2d90ca140b7a94f28c026fc0192": {
          "model_module": "@jupyter-widgets/controls",
          "model_name": "HTMLModel",
          "model_module_version": "1.5.0",
          "state": {
            "_dom_classes": [],
            "_model_module": "@jupyter-widgets/controls",
            "_model_module_version": "1.5.0",
            "_model_name": "HTMLModel",
            "_view_count": null,
            "_view_module": "@jupyter-widgets/controls",
            "_view_module_version": "1.5.0",
            "_view_name": "HTMLView",
            "description": "",
            "description_tooltip": null,
            "layout": "IPY_MODEL_1c81e1ba807b4644807aa9542cc76776",
            "placeholder": "​",
            "style": "IPY_MODEL_1599d3f0362a446390cd8b2e21203696",
            "value": "Downloading medium_articles.csv: 100%"
          }
        },
        "1a399c61659f4e21a5150904f1ab2858": {
          "model_module": "@jupyter-widgets/controls",
          "model_name": "FloatProgressModel",
          "model_module_version": "1.5.0",
          "state": {
            "_dom_classes": [],
            "_model_module": "@jupyter-widgets/controls",
            "_model_module_version": "1.5.0",
            "_model_name": "FloatProgressModel",
            "_view_count": null,
            "_view_module": "@jupyter-widgets/controls",
            "_view_module_version": "1.5.0",
            "_view_name": "ProgressView",
            "bar_style": "success",
            "description": "",
            "description_tooltip": null,
            "layout": "IPY_MODEL_f03ec68e62b8488cb38c54f46c99e8b6",
            "max": 1042340506,
            "min": 0,
            "orientation": "horizontal",
            "style": "IPY_MODEL_cc82f6e3a1a14333844d35d2b67f0701",
            "value": 1042340506
          }
        },
        "6a0491341825469590a72c0cd31e0b88": {
          "model_module": "@jupyter-widgets/controls",
          "model_name": "HTMLModel",
          "model_module_version": "1.5.0",
          "state": {
            "_dom_classes": [],
            "_model_module": "@jupyter-widgets/controls",
            "_model_module_version": "1.5.0",
            "_model_name": "HTMLModel",
            "_view_count": null,
            "_view_module": "@jupyter-widgets/controls",
            "_view_module_version": "1.5.0",
            "_view_name": "HTMLView",
            "description": "",
            "description_tooltip": null,
            "layout": "IPY_MODEL_57359878256d420392b71a153c38a65c",
            "placeholder": "​",
            "style": "IPY_MODEL_e64461b9dc2c4d7faf4b350ffe87b161",
            "value": " 1.04G/1.04G [00:20&lt;00:00, 39.5MB/s]"
          }
        },
        "3b68500de3a648488a072478830badac": {
          "model_module": "@jupyter-widgets/base",
          "model_name": "LayoutModel",
          "model_module_version": "1.2.0",
          "state": {
            "_model_module": "@jupyter-widgets/base",
            "_model_module_version": "1.2.0",
            "_model_name": "LayoutModel",
            "_view_count": null,
            "_view_module": "@jupyter-widgets/base",
            "_view_module_version": "1.2.0",
            "_view_name": "LayoutView",
            "align_content": null,
            "align_items": null,
            "align_self": null,
            "border": null,
            "bottom": null,
            "display": null,
            "flex": null,
            "flex_flow": null,
            "grid_area": null,
            "grid_auto_columns": null,
            "grid_auto_flow": null,
            "grid_auto_rows": null,
            "grid_column": null,
            "grid_gap": null,
            "grid_row": null,
            "grid_template_areas": null,
            "grid_template_columns": null,
            "grid_template_rows": null,
            "height": null,
            "justify_content": null,
            "justify_items": null,
            "left": null,
            "margin": null,
            "max_height": null,
            "max_width": null,
            "min_height": null,
            "min_width": null,
            "object_fit": null,
            "object_position": null,
            "order": null,
            "overflow": null,
            "overflow_x": null,
            "overflow_y": null,
            "padding": null,
            "right": null,
            "top": null,
            "visibility": null,
            "width": null
          }
        },
        "1c81e1ba807b4644807aa9542cc76776": {
          "model_module": "@jupyter-widgets/base",
          "model_name": "LayoutModel",
          "model_module_version": "1.2.0",
          "state": {
            "_model_module": "@jupyter-widgets/base",
            "_model_module_version": "1.2.0",
            "_model_name": "LayoutModel",
            "_view_count": null,
            "_view_module": "@jupyter-widgets/base",
            "_view_module_version": "1.2.0",
            "_view_name": "LayoutView",
            "align_content": null,
            "align_items": null,
            "align_self": null,
            "border": null,
            "bottom": null,
            "display": null,
            "flex": null,
            "flex_flow": null,
            "grid_area": null,
            "grid_auto_columns": null,
            "grid_auto_flow": null,
            "grid_auto_rows": null,
            "grid_column": null,
            "grid_gap": null,
            "grid_row": null,
            "grid_template_areas": null,
            "grid_template_columns": null,
            "grid_template_rows": null,
            "height": null,
            "justify_content": null,
            "justify_items": null,
            "left": null,
            "margin": null,
            "max_height": null,
            "max_width": null,
            "min_height": null,
            "min_width": null,
            "object_fit": null,
            "object_position": null,
            "order": null,
            "overflow": null,
            "overflow_x": null,
            "overflow_y": null,
            "padding": null,
            "right": null,
            "top": null,
            "visibility": null,
            "width": null
          }
        },
        "1599d3f0362a446390cd8b2e21203696": {
          "model_module": "@jupyter-widgets/controls",
          "model_name": "DescriptionStyleModel",
          "model_module_version": "1.5.0",
          "state": {
            "_model_module": "@jupyter-widgets/controls",
            "_model_module_version": "1.5.0",
            "_model_name": "DescriptionStyleModel",
            "_view_count": null,
            "_view_module": "@jupyter-widgets/base",
            "_view_module_version": "1.2.0",
            "_view_name": "StyleView",
            "description_width": ""
          }
        },
        "f03ec68e62b8488cb38c54f46c99e8b6": {
          "model_module": "@jupyter-widgets/base",
          "model_name": "LayoutModel",
          "model_module_version": "1.2.0",
          "state": {
            "_model_module": "@jupyter-widgets/base",
            "_model_module_version": "1.2.0",
            "_model_name": "LayoutModel",
            "_view_count": null,
            "_view_module": "@jupyter-widgets/base",
            "_view_module_version": "1.2.0",
            "_view_name": "LayoutView",
            "align_content": null,
            "align_items": null,
            "align_self": null,
            "border": null,
            "bottom": null,
            "display": null,
            "flex": null,
            "flex_flow": null,
            "grid_area": null,
            "grid_auto_columns": null,
            "grid_auto_flow": null,
            "grid_auto_rows": null,
            "grid_column": null,
            "grid_gap": null,
            "grid_row": null,
            "grid_template_areas": null,
            "grid_template_columns": null,
            "grid_template_rows": null,
            "height": null,
            "justify_content": null,
            "justify_items": null,
            "left": null,
            "margin": null,
            "max_height": null,
            "max_width": null,
            "min_height": null,
            "min_width": null,
            "object_fit": null,
            "object_position": null,
            "order": null,
            "overflow": null,
            "overflow_x": null,
            "overflow_y": null,
            "padding": null,
            "right": null,
            "top": null,
            "visibility": null,
            "width": null
          }
        },
        "cc82f6e3a1a14333844d35d2b67f0701": {
          "model_module": "@jupyter-widgets/controls",
          "model_name": "ProgressStyleModel",
          "model_module_version": "1.5.0",
          "state": {
            "_model_module": "@jupyter-widgets/controls",
            "_model_module_version": "1.5.0",
            "_model_name": "ProgressStyleModel",
            "_view_count": null,
            "_view_module": "@jupyter-widgets/base",
            "_view_module_version": "1.2.0",
            "_view_name": "StyleView",
            "bar_color": null,
            "description_width": ""
          }
        },
        "57359878256d420392b71a153c38a65c": {
          "model_module": "@jupyter-widgets/base",
          "model_name": "LayoutModel",
          "model_module_version": "1.2.0",
          "state": {
            "_model_module": "@jupyter-widgets/base",
            "_model_module_version": "1.2.0",
            "_model_name": "LayoutModel",
            "_view_count": null,
            "_view_module": "@jupyter-widgets/base",
            "_view_module_version": "1.2.0",
            "_view_name": "LayoutView",
            "align_content": null,
            "align_items": null,
            "align_self": null,
            "border": null,
            "bottom": null,
            "display": null,
            "flex": null,
            "flex_flow": null,
            "grid_area": null,
            "grid_auto_columns": null,
            "grid_auto_flow": null,
            "grid_auto_rows": null,
            "grid_column": null,
            "grid_gap": null,
            "grid_row": null,
            "grid_template_areas": null,
            "grid_template_columns": null,
            "grid_template_rows": null,
            "height": null,
            "justify_content": null,
            "justify_items": null,
            "left": null,
            "margin": null,
            "max_height": null,
            "max_width": null,
            "min_height": null,
            "min_width": null,
            "object_fit": null,
            "object_position": null,
            "order": null,
            "overflow": null,
            "overflow_x": null,
            "overflow_y": null,
            "padding": null,
            "right": null,
            "top": null,
            "visibility": null,
            "width": null
          }
        },
        "e64461b9dc2c4d7faf4b350ffe87b161": {
          "model_module": "@jupyter-widgets/controls",
          "model_name": "DescriptionStyleModel",
          "model_module_version": "1.5.0",
          "state": {
            "_model_module": "@jupyter-widgets/controls",
            "_model_module_version": "1.5.0",
            "_model_name": "DescriptionStyleModel",
            "_view_count": null,
            "_view_module": "@jupyter-widgets/base",
            "_view_module_version": "1.2.0",
            "_view_name": "StyleView",
            "description_width": ""
          }
        }
      }
    }
  },
  "cells": [
    {
      "cell_type": "markdown",
      "source": [
        "A vector is a data structure that is similar to a list or an array. number of values represent the vector's dimenionality (min no of coordinates to specify a point in a space) - dimension, axis, shape represent same concept."
      ],
      "metadata": {
        "id": "VfAsvW3yAR01"
      }
    },
    {
      "cell_type": "code",
      "execution_count": 1,
      "metadata": {
        "colab": {
          "base_uri": "https://localhost:8080/"
        },
        "id": "-0dEItq7_kki",
        "outputId": "53518d0f-d032-4e0b-eefd-7792d01f49a2"
      },
      "outputs": [
        {
          "output_type": "execute_result",
          "data": {
            "text/plain": [
              "(2, 2)"
            ]
          },
          "metadata": {},
          "execution_count": 1
        }
      ],
      "source": [
        "import numpy as np\n",
        "a = np.array([[1,2],[3,4]])\n",
        "a.shape"
      ]
    },
    {
      "cell_type": "markdown",
      "source": [
        "Statistical approach for text classification **n-gram** - classify between texts that talk about cricket or football\n",
        "\n",
        "Steps:\n",
        "1. Text Vectorization.\n",
        "2. Train regression model on vectorized texts ( find the relationships between two data factors)\n",
        "3. Check importance of each word."
      ],
      "metadata": {
        "id": "p2x9JXkWCXw8"
      }
    },
    {
      "cell_type": "code",
      "source": [
        "#Text Vectorization - can be done in multiple ways but we will count the number of occurrences of each word in the texts\n",
        "\n",
        "#easily show tables / data frames\n",
        "import pandas as pd\n",
        "\n",
        "#vectorize texts by counting the occurrencies of each word (bow)\n",
        "from sklearn.feature_extraction.text import CountVectorizer\n",
        "\n",
        "from sklearn.linear_model import LogisticRegression"
      ],
      "metadata": {
        "id": "IQ7h7RzeBSbU"
      },
      "execution_count": 2,
      "outputs": []
    },
    {
      "cell_type": "code",
      "source": [
        "texts = [\n",
        "    \"cricket is a team sport which is played on a 22 yard pitch\",\n",
        "    \"football is a sport where teams score goals\"\n",
        "]\n",
        "labels = [1, 0] # 1 means cricket, 0 means football\n",
        "\n",
        "# fit vectorizer on texts\n",
        "vectorizer = CountVectorizer(ngram_range=(1, 1)) #must consider only single words (unigrams)\n",
        "vectorizer.fit(texts) # build ngram dictionary\n",
        "\n",
        "# ransform text into vectors with the transform method\n",
        "ngrams = vectorizer.transform(texts)\n",
        "ngrams.todense() #dense matrix for less memory"
      ],
      "metadata": {
        "colab": {
          "base_uri": "https://localhost:8080/"
        },
        "id": "GmDn-p_QE6pD",
        "outputId": "9869b895-4aea-46dc-97a2-6547ef206392"
      },
      "execution_count": 3,
      "outputs": [
        {
          "output_type": "execute_result",
          "data": {
            "text/plain": [
              "matrix([[1, 1, 0, 0, 2, 1, 1, 1, 0, 1, 1, 0, 0, 1, 1],\n",
              "        [0, 0, 1, 1, 1, 0, 0, 0, 1, 1, 0, 1, 1, 0, 0]])"
            ]
          },
          "metadata": {},
          "execution_count": 3
        }
      ]
    },
    {
      "cell_type": "code",
      "source": [
        "#which word corresponds to which column?\n",
        "\n",
        "# show the vocabulary learned by the vectorizer\n",
        "vectorizer.vocabulary_"
      ],
      "metadata": {
        "colab": {
          "base_uri": "https://localhost:8080/"
        },
        "id": "ZDQjFXLKGBQj",
        "outputId": "749f3850-22cf-461d-97db-0f397e9648a8"
      },
      "execution_count": 4,
      "outputs": [
        {
          "output_type": "execute_result",
          "data": {
            "text/plain": [
              "{'cricket': 1,\n",
              " 'is': 4,\n",
              " 'team': 10,\n",
              " 'sport': 9,\n",
              " 'which': 13,\n",
              " 'played': 7,\n",
              " 'on': 5,\n",
              " '22': 0,\n",
              " 'yard': 14,\n",
              " 'pitch': 6,\n",
              " 'football': 2,\n",
              " 'where': 12,\n",
              " 'teams': 11,\n",
              " 'score': 8,\n",
              " 'goals': 3}"
            ]
          },
          "metadata": {},
          "execution_count": 4
        }
      ]
    },
    {
      "cell_type": "code",
      "source": [
        "# create a pandas dataframe that shows the unigrams in each text\n",
        "\n",
        "keys_values_sorted = sorted(list(vectorizer.vocabulary_.items()), key=lambda t: t[1])\n",
        "keys_sorted = list(zip(*keys_values_sorted))[0]\n",
        "ngrams_matrix = ngrams.todense()\n",
        "df = pd.DataFrame(ngrams_matrix, columns=keys_sorted)\n",
        "df"
      ],
      "metadata": {
        "colab": {
          "base_uri": "https://localhost:8080/",
          "height": 112
        },
        "id": "4q_4OdGXGa6k",
        "outputId": "be230a98-a008-446b-b4cf-e85838ef16af"
      },
      "execution_count": 5,
      "outputs": [
        {
          "output_type": "execute_result",
          "data": {
            "text/plain": [
              "   22  cricket  football  goals  is  on  pitch  played  score  sport  team  \\\n",
              "0   1        1         0      0   2   1      1       1      0      1     1   \n",
              "1   0        0         1      1   1   0      0       0      1      1     0   \n",
              "\n",
              "   teams  where  which  yard  \n",
              "0      0      0      1     1  \n",
              "1      1      1      0     0  "
            ],
            "text/html": [
              "\n",
              "  <div id=\"df-2f3c800c-f266-4e6e-8ed3-6a9a806087a7\">\n",
              "    <div class=\"colab-df-container\">\n",
              "      <div>\n",
              "<style scoped>\n",
              "    .dataframe tbody tr th:only-of-type {\n",
              "        vertical-align: middle;\n",
              "    }\n",
              "\n",
              "    .dataframe tbody tr th {\n",
              "        vertical-align: top;\n",
              "    }\n",
              "\n",
              "    .dataframe thead th {\n",
              "        text-align: right;\n",
              "    }\n",
              "</style>\n",
              "<table border=\"1\" class=\"dataframe\">\n",
              "  <thead>\n",
              "    <tr style=\"text-align: right;\">\n",
              "      <th></th>\n",
              "      <th>22</th>\n",
              "      <th>cricket</th>\n",
              "      <th>football</th>\n",
              "      <th>goals</th>\n",
              "      <th>is</th>\n",
              "      <th>on</th>\n",
              "      <th>pitch</th>\n",
              "      <th>played</th>\n",
              "      <th>score</th>\n",
              "      <th>sport</th>\n",
              "      <th>team</th>\n",
              "      <th>teams</th>\n",
              "      <th>where</th>\n",
              "      <th>which</th>\n",
              "      <th>yard</th>\n",
              "    </tr>\n",
              "  </thead>\n",
              "  <tbody>\n",
              "    <tr>\n",
              "      <th>0</th>\n",
              "      <td>1</td>\n",
              "      <td>1</td>\n",
              "      <td>0</td>\n",
              "      <td>0</td>\n",
              "      <td>2</td>\n",
              "      <td>1</td>\n",
              "      <td>1</td>\n",
              "      <td>1</td>\n",
              "      <td>0</td>\n",
              "      <td>1</td>\n",
              "      <td>1</td>\n",
              "      <td>0</td>\n",
              "      <td>0</td>\n",
              "      <td>1</td>\n",
              "      <td>1</td>\n",
              "    </tr>\n",
              "    <tr>\n",
              "      <th>1</th>\n",
              "      <td>0</td>\n",
              "      <td>0</td>\n",
              "      <td>1</td>\n",
              "      <td>1</td>\n",
              "      <td>1</td>\n",
              "      <td>0</td>\n",
              "      <td>0</td>\n",
              "      <td>0</td>\n",
              "      <td>1</td>\n",
              "      <td>1</td>\n",
              "      <td>0</td>\n",
              "      <td>1</td>\n",
              "      <td>1</td>\n",
              "      <td>0</td>\n",
              "      <td>0</td>\n",
              "    </tr>\n",
              "  </tbody>\n",
              "</table>\n",
              "</div>\n",
              "      <button class=\"colab-df-convert\" onclick=\"convertToInteractive('df-2f3c800c-f266-4e6e-8ed3-6a9a806087a7')\"\n",
              "              title=\"Convert this dataframe to an interactive table.\"\n",
              "              style=\"display:none;\">\n",
              "        \n",
              "  <svg xmlns=\"http://www.w3.org/2000/svg\" height=\"24px\"viewBox=\"0 0 24 24\"\n",
              "       width=\"24px\">\n",
              "    <path d=\"M0 0h24v24H0V0z\" fill=\"none\"/>\n",
              "    <path d=\"M18.56 5.44l.94 2.06.94-2.06 2.06-.94-2.06-.94-.94-2.06-.94 2.06-2.06.94zm-11 1L8.5 8.5l.94-2.06 2.06-.94-2.06-.94L8.5 2.5l-.94 2.06-2.06.94zm10 10l.94 2.06.94-2.06 2.06-.94-2.06-.94-.94-2.06-.94 2.06-2.06.94z\"/><path d=\"M17.41 7.96l-1.37-1.37c-.4-.4-.92-.59-1.43-.59-.52 0-1.04.2-1.43.59L10.3 9.45l-7.72 7.72c-.78.78-.78 2.05 0 2.83L4 21.41c.39.39.9.59 1.41.59.51 0 1.02-.2 1.41-.59l7.78-7.78 2.81-2.81c.8-.78.8-2.07 0-2.86zM5.41 20L4 18.59l7.72-7.72 1.47 1.35L5.41 20z\"/>\n",
              "  </svg>\n",
              "      </button>\n",
              "      \n",
              "  <style>\n",
              "    .colab-df-container {\n",
              "      display:flex;\n",
              "      flex-wrap:wrap;\n",
              "      gap: 12px;\n",
              "    }\n",
              "\n",
              "    .colab-df-convert {\n",
              "      background-color: #E8F0FE;\n",
              "      border: none;\n",
              "      border-radius: 50%;\n",
              "      cursor: pointer;\n",
              "      display: none;\n",
              "      fill: #1967D2;\n",
              "      height: 32px;\n",
              "      padding: 0 0 0 0;\n",
              "      width: 32px;\n",
              "    }\n",
              "\n",
              "    .colab-df-convert:hover {\n",
              "      background-color: #E2EBFA;\n",
              "      box-shadow: 0px 1px 2px rgba(60, 64, 67, 0.3), 0px 1px 3px 1px rgba(60, 64, 67, 0.15);\n",
              "      fill: #174EA6;\n",
              "    }\n",
              "\n",
              "    [theme=dark] .colab-df-convert {\n",
              "      background-color: #3B4455;\n",
              "      fill: #D2E3FC;\n",
              "    }\n",
              "\n",
              "    [theme=dark] .colab-df-convert:hover {\n",
              "      background-color: #434B5C;\n",
              "      box-shadow: 0px 1px 3px 1px rgba(0, 0, 0, 0.15);\n",
              "      filter: drop-shadow(0px 1px 2px rgba(0, 0, 0, 0.3));\n",
              "      fill: #FFFFFF;\n",
              "    }\n",
              "  </style>\n",
              "\n",
              "      <script>\n",
              "        const buttonEl =\n",
              "          document.querySelector('#df-2f3c800c-f266-4e6e-8ed3-6a9a806087a7 button.colab-df-convert');\n",
              "        buttonEl.style.display =\n",
              "          google.colab.kernel.accessAllowed ? 'block' : 'none';\n",
              "\n",
              "        async function convertToInteractive(key) {\n",
              "          const element = document.querySelector('#df-2f3c800c-f266-4e6e-8ed3-6a9a806087a7');\n",
              "          const dataTable =\n",
              "            await google.colab.kernel.invokeFunction('convertToInteractive',\n",
              "                                                     [key], {});\n",
              "          if (!dataTable) return;\n",
              "\n",
              "          const docLinkHtml = 'Like what you see? Visit the ' +\n",
              "            '<a target=\"_blank\" href=https://colab.research.google.com/notebooks/data_table.ipynb>data table notebook</a>'\n",
              "            + ' to learn more about interactive tables.';\n",
              "          element.innerHTML = '';\n",
              "          dataTable['output_type'] = 'display_data';\n",
              "          await google.colab.output.renderOutput(dataTable, element);\n",
              "          const docLink = document.createElement('div');\n",
              "          docLink.innerHTML = docLinkHtml;\n",
              "          element.appendChild(docLink);\n",
              "        }\n",
              "      </script>\n",
              "    </div>\n",
              "  </div>\n",
              "  "
            ]
          },
          "metadata": {},
          "execution_count": 5
        }
      ]
    },
    {
      "cell_type": "code",
      "source": [
        "# train logistic regression on unigrams\n",
        "model = LogisticRegression()\n",
        "model.fit(ngrams, labels)\n",
        "\n",
        "# show logistic regression weights - weights decide the importance of a feature\n",
        "from_unigram_to_weight = dict(zip(keys_sorted, model.coef_[0]))\n",
        "from_unigram_to_weight"
      ],
      "metadata": {
        "colab": {
          "base_uri": "https://localhost:8080/"
        },
        "id": "8mwRjx2nHExL",
        "outputId": "bb97255d-7ec1-43eb-9e1b-5c3d6dae0c84"
      },
      "execution_count": 8,
      "outputs": [
        {
          "output_type": "execute_result",
          "data": {
            "text/plain": [
              "{'22': 0.19896903220286755,\n",
              " 'cricket': 0.19896903220286755,\n",
              " 'football': -0.19896470102742486,\n",
              " 'goals': -0.19896470102742486,\n",
              " 'is': 0.1989733633783102,\n",
              " 'on': 0.19896903220286755,\n",
              " 'pitch': 0.19896903220286755,\n",
              " 'played': 0.19896903220286755,\n",
              " 'score': -0.19896470102742486,\n",
              " 'sport': 4.331175442672891e-06,\n",
              " 'team': 0.19896903220286755,\n",
              " 'teams': -0.19896470102742486,\n",
              " 'where': -0.19896470102742486,\n",
              " 'which': 0.19896903220286755,\n",
              " 'yard': 0.19896903220286755}"
            ]
          },
          "metadata": {},
          "execution_count": 8
        }
      ]
    },
    {
      "cell_type": "markdown",
      "source": [
        "We may want to consider “team” and “teams” the same\n",
        ". This normalization step is typically done by **stemming** or **lemmatization**."
      ],
      "metadata": {
        "id": "wZ8DSrEVW3vx"
      }
    },
    {
      "cell_type": "code",
      "source": [
        "#Stemming - reducing words to base or root form (cats -> cat, achieve -> achiev)\n",
        "\n",
        "import nltk\n",
        "\n",
        "#run only once\n",
        "#nltk.download('punkt')\n",
        "\n",
        "from nltk.tokenize import word_tokenize\n",
        "from nltk.stem import PorterStemmer #performs suffix stripping"
      ],
      "metadata": {
        "colab": {
          "base_uri": "https://localhost:8080/"
        },
        "id": "AFI_nj5uJIsH",
        "outputId": "381539cb-f6d2-4151-cb97-3c6ec155687d"
      },
      "execution_count": 17,
      "outputs": [
        {
          "output_type": "stream",
          "name": "stderr",
          "text": [
            "[nltk_data] Downloading package punkt to /root/nltk_data...\n",
            "[nltk_data]   Package punkt is already up-to-date!\n"
          ]
        }
      ]
    },
    {
      "cell_type": "code",
      "source": [
        "stemmer = PorterStemmer()"
      ],
      "metadata": {
        "id": "Ylm5lJuRcHGg"
      },
      "execution_count": 10,
      "outputs": []
    },
    {
      "cell_type": "code",
      "source": [
        "print(stemmer.stem(\"cat\"))\n",
        "print(stemmer.stem(\"cats\"))\n",
        "\n",
        "print(stemmer.stem(\"walking\"))\n",
        "print(stemmer.stem(\"walked\"))\n",
        "\n",
        "print(stemmer.stem(\"achieve\"))\n",
        "\n",
        "print(stemmer.stem(\"am\"))\n",
        "print(stemmer.stem(\"is\"))\n",
        "print(stemmer.stem(\"are\"))"
      ],
      "metadata": {
        "colab": {
          "base_uri": "https://localhost:8080/"
        },
        "id": "COkw3yhUcSU_",
        "outputId": "9f3a0326-9fa8-4d4b-ed13-47e2d7a8a73c"
      },
      "execution_count": 11,
      "outputs": [
        {
          "output_type": "stream",
          "name": "stdout",
          "text": [
            "cat\n",
            "cat\n",
            "walk\n",
            "walk\n",
            "achiev\n",
            "am\n",
            "is\n",
            "are\n"
          ]
        }
      ]
    },
    {
      "cell_type": "code",
      "source": [
        "text = \"football is a sport where teams score goals\"\n",
        "\n",
        "tokens = word_tokenize(text)\n",
        "tokens_stemmed = [stemmer.stem(token) for token in tokens]\n",
        "print(tokens_stemmed)\n",
        "# ['the', 'cat', 'are', 'sleep', '.', 'what', 'are', 'the', 'dog', 'do', '?']"
      ],
      "metadata": {
        "colab": {
          "base_uri": "https://localhost:8080/"
        },
        "id": "ST3uShXJcbNu",
        "outputId": "253efaaf-3f5f-4d36-df4a-92d69307050f"
      },
      "execution_count": 12,
      "outputs": [
        {
          "output_type": "stream",
          "name": "stdout",
          "text": [
            "['footbal', 'is', 'a', 'sport', 'where', 'team', 'score', 'goal']\n"
          ]
        }
      ]
    },
    {
      "cell_type": "markdown",
      "source": [
        "Stemming can reduce words that are non existing, operates on single word without knowledge of context. Lemmatization finds the correct lemma and understands the context."
      ],
      "metadata": {
        "id": "PMDaTIdwdI6S"
      }
    },
    {
      "cell_type": "code",
      "source": [
        "from nltk.stem import WordNetLemmatizer\n",
        "lemmatizer = WordNetLemmatizer()\n",
        "\n",
        "#run only once\n",
        "#nltk.download('wordnet')\n",
        "\n",
        "\n",
        "print(lemmatizer.lemmatize(\"achieve\"))"
      ],
      "metadata": {
        "colab": {
          "base_uri": "https://localhost:8080/"
        },
        "id": "kwtbbQ6FhiZn",
        "outputId": "e2123d0c-1fa9-4cc4-d3ba-6454360e7de6"
      },
      "execution_count": 16,
      "outputs": [
        {
          "output_type": "stream",
          "name": "stdout",
          "text": [
            "achieve\n"
          ]
        }
      ]
    },
    {
      "cell_type": "code",
      "source": [
        "#run once\n",
        "#nltk.download('stopwords')\n",
        "\n",
        "from nltk.corpus import stopwords\n",
        "english_stopwords = stopwords.words('english')\n",
        "print(f\"There are {len(english_stopwords)} stopwords in English\")\n",
        "print(english_stopwords[:10])"
      ],
      "metadata": {
        "colab": {
          "base_uri": "https://localhost:8080/"
        },
        "id": "c3NZMk8phpJH",
        "outputId": "9f998ac8-9b3e-4f80-e4ad-3f245df11db8"
      },
      "execution_count": 18,
      "outputs": [
        {
          "output_type": "stream",
          "name": "stdout",
          "text": [
            "There are 179 stopwords in English\n",
            "['i', 'me', 'my', 'myself', 'we', 'our', 'ours', 'ourselves', 'you', \"you're\"]\n"
          ]
        },
        {
          "output_type": "stream",
          "name": "stderr",
          "text": [
            "[nltk_data] Downloading package stopwords to /root/nltk_data...\n",
            "[nltk_data]   Unzipping corpora/stopwords.zip.\n"
          ]
        }
      ]
    },
    {
      "cell_type": "markdown",
      "source": [
        "**POS Tagging** - every word in a text is assigned a category. It is used to understanf the grammatical structure of a sentence and to clarify words that have multiple meanings."
      ],
      "metadata": {
        "id": "jh4wTI2Ji43n"
      }
    },
    {
      "cell_type": "code",
      "source": [
        "#run once\n",
        "#nltk.download('averaged_perceptron_tagger')\n",
        "\n",
        "text = word_tokenize(\"They refuse to play football\")\n",
        "print(nltk.pos_tag(text))\n",
        "\n",
        "text = word_tokenize(\"We need the refuse the permit\")\n",
        "print(nltk.pos_tag(text))\n"
      ],
      "metadata": {
        "colab": {
          "base_uri": "https://localhost:8080/"
        },
        "id": "b5ehxWvKiIHl",
        "outputId": "51744b6a-c1b3-455a-a4a4-c049414bf954"
      },
      "execution_count": 23,
      "outputs": [
        {
          "output_type": "stream",
          "name": "stdout",
          "text": [
            "[('They', 'PRP'), ('refuse', 'VBP'), ('to', 'TO'), ('play', 'VB'), ('football', 'NN')]\n",
            "[('We', 'PRP'), ('need', 'VBP'), ('the', 'DT'), ('refuse', 'NN'), ('the', 'DT'), ('permit', 'NN')]\n"
          ]
        }
      ]
    },
    {
      "cell_type": "markdown",
      "source": [
        "\n",
        "\n",
        "```\n",
        "Tag\tMeaning\tEnglish Examples\n",
        "ADJ\tadjective\tnew, good, high, special, big, local\n",
        "ADP\tadposition\ton, of, at, with, by, into, under\n",
        "ADV\tadverb\treally, already, still, early, now\n",
        "CONJ\tconjunction\tand, or, but, if, while, although\n",
        "DET\tdeterminer, article\tthe, a, some, most, every, no, which\n",
        "NOUN\tnoun\tyear, home, costs, time, Africa\n",
        "NUM\tnumeral\ttwenty-four, fourth, 1991, 14:24\n",
        "PRT\tparticle\tat, on, out, over per, that, up, with\n",
        "PRON\tpronoun\the, their, her, its, my, I, us\n",
        "VERB\tverb\tis, say, told, given, playing, would\n",
        ".\tpunctuation marks\t. , ; !\n",
        "X\tother\tersatz, esprit, dunno, gr8, univeristy```\n",
        "\n",
        "\n",
        "https://www.nltk.org/book/ch05.html\n"
      ],
      "metadata": {
        "id": "NhEXESmNjkIC"
      }
    },
    {
      "cell_type": "markdown",
      "source": [
        "#EXAMPLE - Classify Medium Articles\n"
      ],
      "metadata": {
        "id": "WOwOEx-jkYEi"
      }
    },
    {
      "cell_type": "code",
      "source": [
        "!pip install datasets\n"
      ],
      "metadata": {
        "id": "itXtFPQYj0k6"
      },
      "execution_count": null,
      "outputs": []
    },
    {
      "cell_type": "code",
      "source": [
        "from huggingface_hub import hf_hub_download\n",
        "\n",
        "import pandas as pd\n",
        "\n",
        "from sklearn.model_selection import train_test_split\n",
        "from sklearn.feature_extraction.text import CountVectorizer\n",
        "from sklearn.linear_model import LogisticRegression\n",
        "from sklearn.metrics import classification_report"
      ],
      "metadata": {
        "id": "BQbrbfc7kXx5"
      },
      "execution_count": 25,
      "outputs": []
    },
    {
      "cell_type": "code",
      "source": [
        "df_articles = pd.read_csv(\n",
        "  hf_hub_download(\"fabiochiu/medium-articles\", repo_type=\"dataset\",\n",
        "                  filename=\"medium_articles.csv\")\n",
        ")\n",
        "\n",
        "df_articles.head()"
      ],
      "metadata": {
        "colab": {
          "base_uri": "https://localhost:8080/",
          "height": 238,
          "referenced_widgets": [
            "8088e2c8a1e444c2b639d1a544a9df7b",
            "85d4d2d90ca140b7a94f28c026fc0192",
            "1a399c61659f4e21a5150904f1ab2858",
            "6a0491341825469590a72c0cd31e0b88",
            "3b68500de3a648488a072478830badac",
            "1c81e1ba807b4644807aa9542cc76776",
            "1599d3f0362a446390cd8b2e21203696",
            "f03ec68e62b8488cb38c54f46c99e8b6",
            "cc82f6e3a1a14333844d35d2b67f0701",
            "57359878256d420392b71a153c38a65c",
            "e64461b9dc2c4d7faf4b350ffe87b161"
          ]
        },
        "id": "j4F2nhGaoPYF",
        "outputId": "9f8f59ae-8892-4d66-dca6-9ee92c6e8256"
      },
      "execution_count": 26,
      "outputs": [
        {
          "output_type": "display_data",
          "data": {
            "text/plain": [
              "Downloading medium_articles.csv:   0%|          | 0.00/1.04G [00:00<?, ?B/s]"
            ],
            "application/vnd.jupyter.widget-view+json": {
              "version_major": 2,
              "version_minor": 0,
              "model_id": "8088e2c8a1e444c2b639d1a544a9df7b"
            }
          },
          "metadata": {}
        },
        {
          "output_type": "execute_result",
          "data": {
            "text/plain": [
              "                              title  \\\n",
              "0               Mental Note Vol. 24   \n",
              "1         Your Brain On Coronavirus   \n",
              "2                    Mind Your Nose   \n",
              "3          The 4 Purposes of Dreams   \n",
              "4  Surviving a Rod Through the Head   \n",
              "\n",
              "                                                text  \\\n",
              "0  Photo by Josh Riemer on Unsplash\\n\\nMerry Chri...   \n",
              "1  Your Brain On Coronavirus\\n\\nA guide to the cu...   \n",
              "2  Mind Your Nose\\n\\nHow smell training can chang...   \n",
              "3  Passionate about the synergy between science a...   \n",
              "4  You’ve heard of him, haven’t you? Phineas Gage...   \n",
              "\n",
              "                                                 url                 authors  \\\n",
              "0  https://medium.com/invisible-illness/mental-no...            ['Ryan Fan']   \n",
              "1  https://medium.com/age-of-awareness/how-the-pa...       ['Simon Spichak']   \n",
              "2  https://medium.com/neodotlife/mind-your-nose-f...                      []   \n",
              "3  https://medium.com/science-for-real/the-4-purp...  ['Eshan Samaranayake']   \n",
              "4  https://medium.com/live-your-life-on-purpose/s...        ['Rishav Sinha']   \n",
              "\n",
              "                          timestamp  \\\n",
              "0  2020-12-26 03:38:10.479000+00:00   \n",
              "1  2020-09-23 22:10:17.126000+00:00   \n",
              "2  2020-10-10 20:17:37.132000+00:00   \n",
              "3  2020-12-21 16:05:19.524000+00:00   \n",
              "4  2020-02-26 00:01:01.576000+00:00   \n",
              "\n",
              "                                                tags  \n",
              "0  ['Mental Health', 'Health', 'Psychology', 'Sci...  \n",
              "1  ['Mental Health', 'Coronavirus', 'Science', 'P...  \n",
              "2  ['Biotechnology', 'Neuroscience', 'Brain', 'We...  \n",
              "3  ['Health', 'Neuroscience', 'Mental Health', 'P...  \n",
              "4  ['Brain', 'Health', 'Development', 'Psychology...  "
            ],
            "text/html": [
              "\n",
              "  <div id=\"df-1df8d613-b4e2-47ea-b74a-f09af9bea83b\">\n",
              "    <div class=\"colab-df-container\">\n",
              "      <div>\n",
              "<style scoped>\n",
              "    .dataframe tbody tr th:only-of-type {\n",
              "        vertical-align: middle;\n",
              "    }\n",
              "\n",
              "    .dataframe tbody tr th {\n",
              "        vertical-align: top;\n",
              "    }\n",
              "\n",
              "    .dataframe thead th {\n",
              "        text-align: right;\n",
              "    }\n",
              "</style>\n",
              "<table border=\"1\" class=\"dataframe\">\n",
              "  <thead>\n",
              "    <tr style=\"text-align: right;\">\n",
              "      <th></th>\n",
              "      <th>title</th>\n",
              "      <th>text</th>\n",
              "      <th>url</th>\n",
              "      <th>authors</th>\n",
              "      <th>timestamp</th>\n",
              "      <th>tags</th>\n",
              "    </tr>\n",
              "  </thead>\n",
              "  <tbody>\n",
              "    <tr>\n",
              "      <th>0</th>\n",
              "      <td>Mental Note Vol. 24</td>\n",
              "      <td>Photo by Josh Riemer on Unsplash\\n\\nMerry Chri...</td>\n",
              "      <td>https://medium.com/invisible-illness/mental-no...</td>\n",
              "      <td>['Ryan Fan']</td>\n",
              "      <td>2020-12-26 03:38:10.479000+00:00</td>\n",
              "      <td>['Mental Health', 'Health', 'Psychology', 'Sci...</td>\n",
              "    </tr>\n",
              "    <tr>\n",
              "      <th>1</th>\n",
              "      <td>Your Brain On Coronavirus</td>\n",
              "      <td>Your Brain On Coronavirus\\n\\nA guide to the cu...</td>\n",
              "      <td>https://medium.com/age-of-awareness/how-the-pa...</td>\n",
              "      <td>['Simon Spichak']</td>\n",
              "      <td>2020-09-23 22:10:17.126000+00:00</td>\n",
              "      <td>['Mental Health', 'Coronavirus', 'Science', 'P...</td>\n",
              "    </tr>\n",
              "    <tr>\n",
              "      <th>2</th>\n",
              "      <td>Mind Your Nose</td>\n",
              "      <td>Mind Your Nose\\n\\nHow smell training can chang...</td>\n",
              "      <td>https://medium.com/neodotlife/mind-your-nose-f...</td>\n",
              "      <td>[]</td>\n",
              "      <td>2020-10-10 20:17:37.132000+00:00</td>\n",
              "      <td>['Biotechnology', 'Neuroscience', 'Brain', 'We...</td>\n",
              "    </tr>\n",
              "    <tr>\n",
              "      <th>3</th>\n",
              "      <td>The 4 Purposes of Dreams</td>\n",
              "      <td>Passionate about the synergy between science a...</td>\n",
              "      <td>https://medium.com/science-for-real/the-4-purp...</td>\n",
              "      <td>['Eshan Samaranayake']</td>\n",
              "      <td>2020-12-21 16:05:19.524000+00:00</td>\n",
              "      <td>['Health', 'Neuroscience', 'Mental Health', 'P...</td>\n",
              "    </tr>\n",
              "    <tr>\n",
              "      <th>4</th>\n",
              "      <td>Surviving a Rod Through the Head</td>\n",
              "      <td>You’ve heard of him, haven’t you? Phineas Gage...</td>\n",
              "      <td>https://medium.com/live-your-life-on-purpose/s...</td>\n",
              "      <td>['Rishav Sinha']</td>\n",
              "      <td>2020-02-26 00:01:01.576000+00:00</td>\n",
              "      <td>['Brain', 'Health', 'Development', 'Psychology...</td>\n",
              "    </tr>\n",
              "  </tbody>\n",
              "</table>\n",
              "</div>\n",
              "      <button class=\"colab-df-convert\" onclick=\"convertToInteractive('df-1df8d613-b4e2-47ea-b74a-f09af9bea83b')\"\n",
              "              title=\"Convert this dataframe to an interactive table.\"\n",
              "              style=\"display:none;\">\n",
              "        \n",
              "  <svg xmlns=\"http://www.w3.org/2000/svg\" height=\"24px\"viewBox=\"0 0 24 24\"\n",
              "       width=\"24px\">\n",
              "    <path d=\"M0 0h24v24H0V0z\" fill=\"none\"/>\n",
              "    <path d=\"M18.56 5.44l.94 2.06.94-2.06 2.06-.94-2.06-.94-.94-2.06-.94 2.06-2.06.94zm-11 1L8.5 8.5l.94-2.06 2.06-.94-2.06-.94L8.5 2.5l-.94 2.06-2.06.94zm10 10l.94 2.06.94-2.06 2.06-.94-2.06-.94-.94-2.06-.94 2.06-2.06.94z\"/><path d=\"M17.41 7.96l-1.37-1.37c-.4-.4-.92-.59-1.43-.59-.52 0-1.04.2-1.43.59L10.3 9.45l-7.72 7.72c-.78.78-.78 2.05 0 2.83L4 21.41c.39.39.9.59 1.41.59.51 0 1.02-.2 1.41-.59l7.78-7.78 2.81-2.81c.8-.78.8-2.07 0-2.86zM5.41 20L4 18.59l7.72-7.72 1.47 1.35L5.41 20z\"/>\n",
              "  </svg>\n",
              "      </button>\n",
              "      \n",
              "  <style>\n",
              "    .colab-df-container {\n",
              "      display:flex;\n",
              "      flex-wrap:wrap;\n",
              "      gap: 12px;\n",
              "    }\n",
              "\n",
              "    .colab-df-convert {\n",
              "      background-color: #E8F0FE;\n",
              "      border: none;\n",
              "      border-radius: 50%;\n",
              "      cursor: pointer;\n",
              "      display: none;\n",
              "      fill: #1967D2;\n",
              "      height: 32px;\n",
              "      padding: 0 0 0 0;\n",
              "      width: 32px;\n",
              "    }\n",
              "\n",
              "    .colab-df-convert:hover {\n",
              "      background-color: #E2EBFA;\n",
              "      box-shadow: 0px 1px 2px rgba(60, 64, 67, 0.3), 0px 1px 3px 1px rgba(60, 64, 67, 0.15);\n",
              "      fill: #174EA6;\n",
              "    }\n",
              "\n",
              "    [theme=dark] .colab-df-convert {\n",
              "      background-color: #3B4455;\n",
              "      fill: #D2E3FC;\n",
              "    }\n",
              "\n",
              "    [theme=dark] .colab-df-convert:hover {\n",
              "      background-color: #434B5C;\n",
              "      box-shadow: 0px 1px 3px 1px rgba(0, 0, 0, 0.15);\n",
              "      filter: drop-shadow(0px 1px 2px rgba(0, 0, 0, 0.3));\n",
              "      fill: #FFFFFF;\n",
              "    }\n",
              "  </style>\n",
              "\n",
              "      <script>\n",
              "        const buttonEl =\n",
              "          document.querySelector('#df-1df8d613-b4e2-47ea-b74a-f09af9bea83b button.colab-df-convert');\n",
              "        buttonEl.style.display =\n",
              "          google.colab.kernel.accessAllowed ? 'block' : 'none';\n",
              "\n",
              "        async function convertToInteractive(key) {\n",
              "          const element = document.querySelector('#df-1df8d613-b4e2-47ea-b74a-f09af9bea83b');\n",
              "          const dataTable =\n",
              "            await google.colab.kernel.invokeFunction('convertToInteractive',\n",
              "                                                     [key], {});\n",
              "          if (!dataTable) return;\n",
              "\n",
              "          const docLinkHtml = 'Like what you see? Visit the ' +\n",
              "            '<a target=\"_blank\" href=https://colab.research.google.com/notebooks/data_table.ipynb>data table notebook</a>'\n",
              "            + ' to learn more about interactive tables.';\n",
              "          element.innerHTML = '';\n",
              "          dataTable['output_type'] = 'display_data';\n",
              "          await google.colab.output.renderOutput(dataTable, element);\n",
              "          const docLink = document.createElement('div');\n",
              "          docLink.innerHTML = docLinkHtml;\n",
              "          element.appendChild(docLink);\n",
              "        }\n",
              "      </script>\n",
              "    </div>\n",
              "  </div>\n",
              "  "
            ]
          },
          "metadata": {},
          "execution_count": 26
        }
      ]
    },
    {
      "cell_type": "markdown",
      "source": [
        "We’ll train a classifier to distinguish whether an article has the **Data Science** tag or not"
      ],
      "metadata": {
        "id": "Ru7db0Jyog6b"
      }
    },
    {
      "cell_type": "code",
      "source": [
        "# make is_data_science & full_text columns\n",
        "\n",
        "# full_text: contains the concatenation of the title and the text of the article.\n",
        "# is_data_science: a boolean which is True if the article has the \"Data Science\" tag\n",
        "\n",
        "\n",
        "df_articles[\"is_data_science\"] = df_articles[\"tags\"] \\\n",
        "  .apply(lambda tags_list: \"Data Science\" in tags_list)\n",
        "df_articles[\"full_text\"] = df_articles[\"title\"] + \" \" + df_articles[\"text\"]\n",
        "df_articles.head()"
      ],
      "metadata": {
        "colab": {
          "base_uri": "https://localhost:8080/",
          "height": 337
        },
        "id": "OmXNw2fcovkK",
        "outputId": "2b4ff15b-94c3-48db-c0fb-ea6a53601836"
      },
      "execution_count": 27,
      "outputs": [
        {
          "output_type": "execute_result",
          "data": {
            "text/plain": [
              "                              title  \\\n",
              "0               Mental Note Vol. 24   \n",
              "1         Your Brain On Coronavirus   \n",
              "2                    Mind Your Nose   \n",
              "3          The 4 Purposes of Dreams   \n",
              "4  Surviving a Rod Through the Head   \n",
              "\n",
              "                                                text  \\\n",
              "0  Photo by Josh Riemer on Unsplash\\n\\nMerry Chri...   \n",
              "1  Your Brain On Coronavirus\\n\\nA guide to the cu...   \n",
              "2  Mind Your Nose\\n\\nHow smell training can chang...   \n",
              "3  Passionate about the synergy between science a...   \n",
              "4  You’ve heard of him, haven’t you? Phineas Gage...   \n",
              "\n",
              "                                                 url                 authors  \\\n",
              "0  https://medium.com/invisible-illness/mental-no...            ['Ryan Fan']   \n",
              "1  https://medium.com/age-of-awareness/how-the-pa...       ['Simon Spichak']   \n",
              "2  https://medium.com/neodotlife/mind-your-nose-f...                      []   \n",
              "3  https://medium.com/science-for-real/the-4-purp...  ['Eshan Samaranayake']   \n",
              "4  https://medium.com/live-your-life-on-purpose/s...        ['Rishav Sinha']   \n",
              "\n",
              "                          timestamp  \\\n",
              "0  2020-12-26 03:38:10.479000+00:00   \n",
              "1  2020-09-23 22:10:17.126000+00:00   \n",
              "2  2020-10-10 20:17:37.132000+00:00   \n",
              "3  2020-12-21 16:05:19.524000+00:00   \n",
              "4  2020-02-26 00:01:01.576000+00:00   \n",
              "\n",
              "                                                tags  is_data_science  \\\n",
              "0  ['Mental Health', 'Health', 'Psychology', 'Sci...            False   \n",
              "1  ['Mental Health', 'Coronavirus', 'Science', 'P...            False   \n",
              "2  ['Biotechnology', 'Neuroscience', 'Brain', 'We...            False   \n",
              "3  ['Health', 'Neuroscience', 'Mental Health', 'P...            False   \n",
              "4  ['Brain', 'Health', 'Development', 'Psychology...            False   \n",
              "\n",
              "                                           full_text  \n",
              "0  Mental Note Vol. 24 Photo by Josh Riemer on Un...  \n",
              "1  Your Brain On Coronavirus Your Brain On Corona...  \n",
              "2  Mind Your Nose Mind Your Nose\\n\\nHow smell tra...  \n",
              "3  The 4 Purposes of Dreams Passionate about the ...  \n",
              "4  Surviving a Rod Through the Head You’ve heard ...  "
            ],
            "text/html": [
              "\n",
              "  <div id=\"df-ff9419e8-c4a2-4993-a44f-6982d5503c0f\">\n",
              "    <div class=\"colab-df-container\">\n",
              "      <div>\n",
              "<style scoped>\n",
              "    .dataframe tbody tr th:only-of-type {\n",
              "        vertical-align: middle;\n",
              "    }\n",
              "\n",
              "    .dataframe tbody tr th {\n",
              "        vertical-align: top;\n",
              "    }\n",
              "\n",
              "    .dataframe thead th {\n",
              "        text-align: right;\n",
              "    }\n",
              "</style>\n",
              "<table border=\"1\" class=\"dataframe\">\n",
              "  <thead>\n",
              "    <tr style=\"text-align: right;\">\n",
              "      <th></th>\n",
              "      <th>title</th>\n",
              "      <th>text</th>\n",
              "      <th>url</th>\n",
              "      <th>authors</th>\n",
              "      <th>timestamp</th>\n",
              "      <th>tags</th>\n",
              "      <th>is_data_science</th>\n",
              "      <th>full_text</th>\n",
              "    </tr>\n",
              "  </thead>\n",
              "  <tbody>\n",
              "    <tr>\n",
              "      <th>0</th>\n",
              "      <td>Mental Note Vol. 24</td>\n",
              "      <td>Photo by Josh Riemer on Unsplash\\n\\nMerry Chri...</td>\n",
              "      <td>https://medium.com/invisible-illness/mental-no...</td>\n",
              "      <td>['Ryan Fan']</td>\n",
              "      <td>2020-12-26 03:38:10.479000+00:00</td>\n",
              "      <td>['Mental Health', 'Health', 'Psychology', 'Sci...</td>\n",
              "      <td>False</td>\n",
              "      <td>Mental Note Vol. 24 Photo by Josh Riemer on Un...</td>\n",
              "    </tr>\n",
              "    <tr>\n",
              "      <th>1</th>\n",
              "      <td>Your Brain On Coronavirus</td>\n",
              "      <td>Your Brain On Coronavirus\\n\\nA guide to the cu...</td>\n",
              "      <td>https://medium.com/age-of-awareness/how-the-pa...</td>\n",
              "      <td>['Simon Spichak']</td>\n",
              "      <td>2020-09-23 22:10:17.126000+00:00</td>\n",
              "      <td>['Mental Health', 'Coronavirus', 'Science', 'P...</td>\n",
              "      <td>False</td>\n",
              "      <td>Your Brain On Coronavirus Your Brain On Corona...</td>\n",
              "    </tr>\n",
              "    <tr>\n",
              "      <th>2</th>\n",
              "      <td>Mind Your Nose</td>\n",
              "      <td>Mind Your Nose\\n\\nHow smell training can chang...</td>\n",
              "      <td>https://medium.com/neodotlife/mind-your-nose-f...</td>\n",
              "      <td>[]</td>\n",
              "      <td>2020-10-10 20:17:37.132000+00:00</td>\n",
              "      <td>['Biotechnology', 'Neuroscience', 'Brain', 'We...</td>\n",
              "      <td>False</td>\n",
              "      <td>Mind Your Nose Mind Your Nose\\n\\nHow smell tra...</td>\n",
              "    </tr>\n",
              "    <tr>\n",
              "      <th>3</th>\n",
              "      <td>The 4 Purposes of Dreams</td>\n",
              "      <td>Passionate about the synergy between science a...</td>\n",
              "      <td>https://medium.com/science-for-real/the-4-purp...</td>\n",
              "      <td>['Eshan Samaranayake']</td>\n",
              "      <td>2020-12-21 16:05:19.524000+00:00</td>\n",
              "      <td>['Health', 'Neuroscience', 'Mental Health', 'P...</td>\n",
              "      <td>False</td>\n",
              "      <td>The 4 Purposes of Dreams Passionate about the ...</td>\n",
              "    </tr>\n",
              "    <tr>\n",
              "      <th>4</th>\n",
              "      <td>Surviving a Rod Through the Head</td>\n",
              "      <td>You’ve heard of him, haven’t you? Phineas Gage...</td>\n",
              "      <td>https://medium.com/live-your-life-on-purpose/s...</td>\n",
              "      <td>['Rishav Sinha']</td>\n",
              "      <td>2020-02-26 00:01:01.576000+00:00</td>\n",
              "      <td>['Brain', 'Health', 'Development', 'Psychology...</td>\n",
              "      <td>False</td>\n",
              "      <td>Surviving a Rod Through the Head You’ve heard ...</td>\n",
              "    </tr>\n",
              "  </tbody>\n",
              "</table>\n",
              "</div>\n",
              "      <button class=\"colab-df-convert\" onclick=\"convertToInteractive('df-ff9419e8-c4a2-4993-a44f-6982d5503c0f')\"\n",
              "              title=\"Convert this dataframe to an interactive table.\"\n",
              "              style=\"display:none;\">\n",
              "        \n",
              "  <svg xmlns=\"http://www.w3.org/2000/svg\" height=\"24px\"viewBox=\"0 0 24 24\"\n",
              "       width=\"24px\">\n",
              "    <path d=\"M0 0h24v24H0V0z\" fill=\"none\"/>\n",
              "    <path d=\"M18.56 5.44l.94 2.06.94-2.06 2.06-.94-2.06-.94-.94-2.06-.94 2.06-2.06.94zm-11 1L8.5 8.5l.94-2.06 2.06-.94-2.06-.94L8.5 2.5l-.94 2.06-2.06.94zm10 10l.94 2.06.94-2.06 2.06-.94-2.06-.94-.94-2.06-.94 2.06-2.06.94z\"/><path d=\"M17.41 7.96l-1.37-1.37c-.4-.4-.92-.59-1.43-.59-.52 0-1.04.2-1.43.59L10.3 9.45l-7.72 7.72c-.78.78-.78 2.05 0 2.83L4 21.41c.39.39.9.59 1.41.59.51 0 1.02-.2 1.41-.59l7.78-7.78 2.81-2.81c.8-.78.8-2.07 0-2.86zM5.41 20L4 18.59l7.72-7.72 1.47 1.35L5.41 20z\"/>\n",
              "  </svg>\n",
              "      </button>\n",
              "      \n",
              "  <style>\n",
              "    .colab-df-container {\n",
              "      display:flex;\n",
              "      flex-wrap:wrap;\n",
              "      gap: 12px;\n",
              "    }\n",
              "\n",
              "    .colab-df-convert {\n",
              "      background-color: #E8F0FE;\n",
              "      border: none;\n",
              "      border-radius: 50%;\n",
              "      cursor: pointer;\n",
              "      display: none;\n",
              "      fill: #1967D2;\n",
              "      height: 32px;\n",
              "      padding: 0 0 0 0;\n",
              "      width: 32px;\n",
              "    }\n",
              "\n",
              "    .colab-df-convert:hover {\n",
              "      background-color: #E2EBFA;\n",
              "      box-shadow: 0px 1px 2px rgba(60, 64, 67, 0.3), 0px 1px 3px 1px rgba(60, 64, 67, 0.15);\n",
              "      fill: #174EA6;\n",
              "    }\n",
              "\n",
              "    [theme=dark] .colab-df-convert {\n",
              "      background-color: #3B4455;\n",
              "      fill: #D2E3FC;\n",
              "    }\n",
              "\n",
              "    [theme=dark] .colab-df-convert:hover {\n",
              "      background-color: #434B5C;\n",
              "      box-shadow: 0px 1px 3px 1px rgba(0, 0, 0, 0.15);\n",
              "      filter: drop-shadow(0px 1px 2px rgba(0, 0, 0, 0.3));\n",
              "      fill: #FFFFFF;\n",
              "    }\n",
              "  </style>\n",
              "\n",
              "      <script>\n",
              "        const buttonEl =\n",
              "          document.querySelector('#df-ff9419e8-c4a2-4993-a44f-6982d5503c0f button.colab-df-convert');\n",
              "        buttonEl.style.display =\n",
              "          google.colab.kernel.accessAllowed ? 'block' : 'none';\n",
              "\n",
              "        async function convertToInteractive(key) {\n",
              "          const element = document.querySelector('#df-ff9419e8-c4a2-4993-a44f-6982d5503c0f');\n",
              "          const dataTable =\n",
              "            await google.colab.kernel.invokeFunction('convertToInteractive',\n",
              "                                                     [key], {});\n",
              "          if (!dataTable) return;\n",
              "\n",
              "          const docLinkHtml = 'Like what you see? Visit the ' +\n",
              "            '<a target=\"_blank\" href=https://colab.research.google.com/notebooks/data_table.ipynb>data table notebook</a>'\n",
              "            + ' to learn more about interactive tables.';\n",
              "          element.innerHTML = '';\n",
              "          dataTable['output_type'] = 'display_data';\n",
              "          await google.colab.output.renderOutput(dataTable, element);\n",
              "          const docLink = document.createElement('div');\n",
              "          docLink.innerHTML = docLinkHtml;\n",
              "          element.appendChild(docLink);\n",
              "        }\n",
              "      </script>\n",
              "    </div>\n",
              "  </div>\n",
              "  "
            ]
          },
          "metadata": {},
          "execution_count": 27
        }
      ]
    },
    {
      "cell_type": "code",
      "source": [
        "filtered_df = df[df['is_data_science'] == True]\n",
        "filtered_df.head()"
      ],
      "metadata": {
        "colab": {
          "base_uri": "https://localhost:8080/",
          "height": 337
        },
        "id": "Qjt3-a8ytqPa",
        "outputId": "631f13b3-f85b-4a68-96f6-f53fd2dab1a7"
      },
      "execution_count": 34,
      "outputs": [
        {
          "output_type": "execute_result",
          "data": {
            "text/plain": [
              "                                                    title  \\\n",
              "54778   Is bigger also smarter? — Open AI releases GPT...   \n",
              "112622  Interview with a Data Scientist about Data Jou...   \n",
              "31053   Comparing AutoML/Non-Auto-ML Multi-Classificat...   \n",
              "84657                 The first step towards Data Science   \n",
              "183143                     First Hackathon: My Experience   \n",
              "\n",
              "                                                     text  \\\n",
              "54778   Is bigger also smarter? — Open AI releases GPT...   \n",
              "112622  Can you please just start by saying your name,...   \n",
              "31053   Auto-ML approach:\\n\\nLet’s get the dataset:\\n\\...   \n",
              "84657   Hello guys, I am sure that you are ready to di...   \n",
              "183143  A month ago I participated in my first hackath...   \n",
              "\n",
              "                                                      url  \\\n",
              "54778   https://towardsdatascience.com/is-bigger-also-...   \n",
              "112622  https://medium.com/@duncan.kg.anderson/intervi...   \n",
              "31053   https://medium.com/swlh/comparing-automl-non-a...   \n",
              "84657   https://medium.com/@deeppatel23/first-step-tow...   \n",
              "183143  https://medium.com/@dominika2465j/first-hackat...   \n",
              "\n",
              "                    authors                         timestamp  \\\n",
              "54778    ['Andreas Stöckl']  2020-06-01 08:00:27.307000+00:00   \n",
              "112622  ['Duncan Anderson']  2020-10-08 21:42:28.931000+00:00   \n",
              "31053      ['Zeineb Ghrib']  2020-10-10 08:47:18.680000+00:00   \n",
              "84657        ['Deep Patel']  2021-02-13 09:04:31.841000+00:00   \n",
              "183143   ['Dominika Jones']  2021-04-09 23:47:47.021000+00:00   \n",
              "\n",
              "                                                     tags  is_data_science  \\\n",
              "54778   ['Deep Learning', 'Machine Learning', 'Data Sc...             True   \n",
              "112622  ['Journalism', 'Algorithms', 'Data Science', '...             True   \n",
              "31053   ['Scikit Learn', 'Automl', 'Machine Learning',...             True   \n",
              "84657   ['Data Science', 'Deep Learning', 'Beginner', ...             True   \n",
              "183143  ['Python Flask', 'Codingbootcamp', 'Hackathons...             True   \n",
              "\n",
              "                                                full_text  \n",
              "54778   Is bigger also smarter? — Open AI releases GPT...  \n",
              "112622  Interview with a Data Scientist about Data Jou...  \n",
              "31053   Comparing AutoML/Non-Auto-ML Multi-Classificat...  \n",
              "84657   The first step towards Data Science Hello guys...  \n",
              "183143  First Hackathon: My Experience A month ago I p...  "
            ],
            "text/html": [
              "\n",
              "  <div id=\"df-7e0f0617-7e60-4604-86bf-f9afedb47f31\">\n",
              "    <div class=\"colab-df-container\">\n",
              "      <div>\n",
              "<style scoped>\n",
              "    .dataframe tbody tr th:only-of-type {\n",
              "        vertical-align: middle;\n",
              "    }\n",
              "\n",
              "    .dataframe tbody tr th {\n",
              "        vertical-align: top;\n",
              "    }\n",
              "\n",
              "    .dataframe thead th {\n",
              "        text-align: right;\n",
              "    }\n",
              "</style>\n",
              "<table border=\"1\" class=\"dataframe\">\n",
              "  <thead>\n",
              "    <tr style=\"text-align: right;\">\n",
              "      <th></th>\n",
              "      <th>title</th>\n",
              "      <th>text</th>\n",
              "      <th>url</th>\n",
              "      <th>authors</th>\n",
              "      <th>timestamp</th>\n",
              "      <th>tags</th>\n",
              "      <th>is_data_science</th>\n",
              "      <th>full_text</th>\n",
              "    </tr>\n",
              "  </thead>\n",
              "  <tbody>\n",
              "    <tr>\n",
              "      <th>54778</th>\n",
              "      <td>Is bigger also smarter? — Open AI releases GPT...</td>\n",
              "      <td>Is bigger also smarter? — Open AI releases GPT...</td>\n",
              "      <td>https://towardsdatascience.com/is-bigger-also-...</td>\n",
              "      <td>['Andreas Stöckl']</td>\n",
              "      <td>2020-06-01 08:00:27.307000+00:00</td>\n",
              "      <td>['Deep Learning', 'Machine Learning', 'Data Sc...</td>\n",
              "      <td>True</td>\n",
              "      <td>Is bigger also smarter? — Open AI releases GPT...</td>\n",
              "    </tr>\n",
              "    <tr>\n",
              "      <th>112622</th>\n",
              "      <td>Interview with a Data Scientist about Data Jou...</td>\n",
              "      <td>Can you please just start by saying your name,...</td>\n",
              "      <td>https://medium.com/@duncan.kg.anderson/intervi...</td>\n",
              "      <td>['Duncan Anderson']</td>\n",
              "      <td>2020-10-08 21:42:28.931000+00:00</td>\n",
              "      <td>['Journalism', 'Algorithms', 'Data Science', '...</td>\n",
              "      <td>True</td>\n",
              "      <td>Interview with a Data Scientist about Data Jou...</td>\n",
              "    </tr>\n",
              "    <tr>\n",
              "      <th>31053</th>\n",
              "      <td>Comparing AutoML/Non-Auto-ML Multi-Classificat...</td>\n",
              "      <td>Auto-ML approach:\\n\\nLet’s get the dataset:\\n\\...</td>\n",
              "      <td>https://medium.com/swlh/comparing-automl-non-a...</td>\n",
              "      <td>['Zeineb Ghrib']</td>\n",
              "      <td>2020-10-10 08:47:18.680000+00:00</td>\n",
              "      <td>['Scikit Learn', 'Automl', 'Machine Learning',...</td>\n",
              "      <td>True</td>\n",
              "      <td>Comparing AutoML/Non-Auto-ML Multi-Classificat...</td>\n",
              "    </tr>\n",
              "    <tr>\n",
              "      <th>84657</th>\n",
              "      <td>The first step towards Data Science</td>\n",
              "      <td>Hello guys, I am sure that you are ready to di...</td>\n",
              "      <td>https://medium.com/@deeppatel23/first-step-tow...</td>\n",
              "      <td>['Deep Patel']</td>\n",
              "      <td>2021-02-13 09:04:31.841000+00:00</td>\n",
              "      <td>['Data Science', 'Deep Learning', 'Beginner', ...</td>\n",
              "      <td>True</td>\n",
              "      <td>The first step towards Data Science Hello guys...</td>\n",
              "    </tr>\n",
              "    <tr>\n",
              "      <th>183143</th>\n",
              "      <td>First Hackathon: My Experience</td>\n",
              "      <td>A month ago I participated in my first hackath...</td>\n",
              "      <td>https://medium.com/@dominika2465j/first-hackat...</td>\n",
              "      <td>['Dominika Jones']</td>\n",
              "      <td>2021-04-09 23:47:47.021000+00:00</td>\n",
              "      <td>['Python Flask', 'Codingbootcamp', 'Hackathons...</td>\n",
              "      <td>True</td>\n",
              "      <td>First Hackathon: My Experience A month ago I p...</td>\n",
              "    </tr>\n",
              "  </tbody>\n",
              "</table>\n",
              "</div>\n",
              "      <button class=\"colab-df-convert\" onclick=\"convertToInteractive('df-7e0f0617-7e60-4604-86bf-f9afedb47f31')\"\n",
              "              title=\"Convert this dataframe to an interactive table.\"\n",
              "              style=\"display:none;\">\n",
              "        \n",
              "  <svg xmlns=\"http://www.w3.org/2000/svg\" height=\"24px\"viewBox=\"0 0 24 24\"\n",
              "       width=\"24px\">\n",
              "    <path d=\"M0 0h24v24H0V0z\" fill=\"none\"/>\n",
              "    <path d=\"M18.56 5.44l.94 2.06.94-2.06 2.06-.94-2.06-.94-.94-2.06-.94 2.06-2.06.94zm-11 1L8.5 8.5l.94-2.06 2.06-.94-2.06-.94L8.5 2.5l-.94 2.06-2.06.94zm10 10l.94 2.06.94-2.06 2.06-.94-2.06-.94-.94-2.06-.94 2.06-2.06.94z\"/><path d=\"M17.41 7.96l-1.37-1.37c-.4-.4-.92-.59-1.43-.59-.52 0-1.04.2-1.43.59L10.3 9.45l-7.72 7.72c-.78.78-.78 2.05 0 2.83L4 21.41c.39.39.9.59 1.41.59.51 0 1.02-.2 1.41-.59l7.78-7.78 2.81-2.81c.8-.78.8-2.07 0-2.86zM5.41 20L4 18.59l7.72-7.72 1.47 1.35L5.41 20z\"/>\n",
              "  </svg>\n",
              "      </button>\n",
              "      \n",
              "  <style>\n",
              "    .colab-df-container {\n",
              "      display:flex;\n",
              "      flex-wrap:wrap;\n",
              "      gap: 12px;\n",
              "    }\n",
              "\n",
              "    .colab-df-convert {\n",
              "      background-color: #E8F0FE;\n",
              "      border: none;\n",
              "      border-radius: 50%;\n",
              "      cursor: pointer;\n",
              "      display: none;\n",
              "      fill: #1967D2;\n",
              "      height: 32px;\n",
              "      padding: 0 0 0 0;\n",
              "      width: 32px;\n",
              "    }\n",
              "\n",
              "    .colab-df-convert:hover {\n",
              "      background-color: #E2EBFA;\n",
              "      box-shadow: 0px 1px 2px rgba(60, 64, 67, 0.3), 0px 1px 3px 1px rgba(60, 64, 67, 0.15);\n",
              "      fill: #174EA6;\n",
              "    }\n",
              "\n",
              "    [theme=dark] .colab-df-convert {\n",
              "      background-color: #3B4455;\n",
              "      fill: #D2E3FC;\n",
              "    }\n",
              "\n",
              "    [theme=dark] .colab-df-convert:hover {\n",
              "      background-color: #434B5C;\n",
              "      box-shadow: 0px 1px 3px 1px rgba(0, 0, 0, 0.15);\n",
              "      filter: drop-shadow(0px 1px 2px rgba(0, 0, 0, 0.3));\n",
              "      fill: #FFFFFF;\n",
              "    }\n",
              "  </style>\n",
              "\n",
              "      <script>\n",
              "        const buttonEl =\n",
              "          document.querySelector('#df-7e0f0617-7e60-4604-86bf-f9afedb47f31 button.colab-df-convert');\n",
              "        buttonEl.style.display =\n",
              "          google.colab.kernel.accessAllowed ? 'block' : 'none';\n",
              "\n",
              "        async function convertToInteractive(key) {\n",
              "          const element = document.querySelector('#df-7e0f0617-7e60-4604-86bf-f9afedb47f31');\n",
              "          const dataTable =\n",
              "            await google.colab.kernel.invokeFunction('convertToInteractive',\n",
              "                                                     [key], {});\n",
              "          if (!dataTable) return;\n",
              "\n",
              "          const docLinkHtml = 'Like what you see? Visit the ' +\n",
              "            '<a target=\"_blank\" href=https://colab.research.google.com/notebooks/data_table.ipynb>data table notebook</a>'\n",
              "            + ' to learn more about interactive tables.';\n",
              "          element.innerHTML = '';\n",
              "          dataTable['output_type'] = 'display_data';\n",
              "          await google.colab.output.renderOutput(dataTable, element);\n",
              "          const docLink = document.createElement('div');\n",
              "          docLink.innerHTML = docLinkHtml;\n",
              "          element.appendChild(docLink);\n",
              "        }\n",
              "      </script>\n",
              "    </div>\n",
              "  </div>\n",
              "  "
            ]
          },
          "metadata": {},
          "execution_count": 34
        }
      ]
    },
    {
      "cell_type": "code",
      "source": [
        "df = pd.concat([\n",
        "    df_articles[df_articles[\"is_data_science\"]].sample(n=1000),\n",
        "    df_articles[~df_articles[\"is_data_science\"]].sample(n=1000)\n",
        "])"
      ],
      "metadata": {
        "id": "uW_bri0JraoX"
      },
      "execution_count": 28,
      "outputs": []
    },
    {
      "cell_type": "code",
      "source": [
        "# train/test split\n",
        "X = df[[\"full_text\"]]\n",
        "y = df[\"is_data_science\"]\n",
        "\n",
        "X_train, X_test, y_train, y_test = train_test_split(X, y, test_size=0.2,\n",
        "                                                    random_state=42, stratify=y)"
      ],
      "metadata": {
        "id": "7l5vjFfXrjGU"
      },
      "execution_count": 29,
      "outputs": []
    },
    {
      "cell_type": "code",
      "source": [
        "#model training\n",
        "\n",
        "# fit vectorizer, vectorize train set, and train the classification model\n",
        "vectorizer = CountVectorizer(ngram_range=(1, 1))\n",
        "full_texts_vectorized = vectorizer.fit_transform(X_train[\"full_text\"])\n",
        "model = LogisticRegression()\n",
        "model.fit(full_texts_vectorized, y_train)"
      ],
      "metadata": {
        "id": "zrA_GoLyrqrv"
      },
      "execution_count": null,
      "outputs": []
    },
    {
      "cell_type": "code",
      "source": [
        "# vectorize test set and predict\n",
        "full_texts_vectorized = vectorizer.transform(X_test[\"full_text\"])\n",
        "predictions = model.predict(full_texts_vectorized)"
      ],
      "metadata": {
        "id": "B1nfSjh_sK2V"
      },
      "execution_count": 32,
      "outputs": []
    },
    {
      "cell_type": "code",
      "source": [
        "# plot precision, recall, f1-score on test set\n",
        "print(classification_report(y_test, predictions))"
      ],
      "metadata": {
        "colab": {
          "base_uri": "https://localhost:8080/"
        },
        "id": "1xv8GjQdsRPb",
        "outputId": "f4fae63d-03ad-4ad0-8b21-13ded864f680"
      },
      "execution_count": 33,
      "outputs": [
        {
          "output_type": "stream",
          "name": "stdout",
          "text": [
            "              precision    recall  f1-score   support\n",
            "\n",
            "       False       0.88      0.93      0.91       200\n",
            "        True       0.93      0.88      0.90       200\n",
            "\n",
            "    accuracy                           0.90       400\n",
            "   macro avg       0.90      0.90      0.90       400\n",
            "weighted avg       0.90      0.90      0.90       400\n",
            "\n"
          ]
        }
      ]
    },
    {
      "cell_type": "code",
      "source": [
        "# show top 20 ngrams by logistic regression weight\n",
        "ngram_indices_sorted = sorted(list(vectorizer.vocabulary_.items()), key=lambda t: t[1]) #t[1] means sorting is based on value, not key\n",
        "ngram_sorted = list(zip(*ngram_indices_sorted))[0] #function grouped the elements by their indices, and make a list\n",
        "ngram_weight_pairs = list(zip(ngram_sorted, model.coef_[0]))\n",
        "ngram_weight_pairs_sorted = sorted(ngram_weight_pairs, key=lambda t: t[1], reverse=True)\n",
        "ngram_weight_pairs_sorted[:20]"
      ],
      "metadata": {
        "colab": {
          "base_uri": "https://localhost:8080/"
        },
        "id": "PaDIsEeEsTl6",
        "outputId": "69e4d7d0-4c92-44dd-a8cb-80e72e753373"
      },
      "execution_count": 35,
      "outputs": [
        {
          "output_type": "execute_result",
          "data": {
            "text/plain": [
              "[('science', 0.8175957716912231),\n",
              " ('de', 0.713399686754437),\n",
              " ('mon', 0.5809665978761287),\n",
              " ('latest', 0.5673511138802413),\n",
              " ('missed', 0.49128494465808265),\n",
              " ('data', 0.48252635649826536),\n",
              " ('picks', 0.47546828800651497),\n",
              " ('grafiti', 0.45901842100161927),\n",
              " ('average', 0.44949147568261005),\n",
              " ('python', 0.4433265086679952),\n",
              " ('datos', 0.433267705936979),\n",
              " ('nightingale', 0.3900554729334689),\n",
              " ('questions', 0.3853747366907102),\n",
              " ('know', 0.38271029017899966),\n",
              " ('article', 0.35812592469255394),\n",
              " ('math', 0.3531043095420392),\n",
              " ('simple', 0.3388751786230124),\n",
              " ('ai', 0.3372944354535811),\n",
              " ('los', 0.3316184973899332),\n",
              " ('so', 0.3293319742659352)]"
            ]
          },
          "metadata": {},
          "execution_count": 35
        }
      ]
    }
  ]
}
